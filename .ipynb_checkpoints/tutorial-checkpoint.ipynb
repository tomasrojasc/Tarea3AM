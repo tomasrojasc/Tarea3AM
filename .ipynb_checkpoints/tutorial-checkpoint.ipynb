{
 "cells": [
  {
   "cell_type": "code",
   "execution_count": 107,
   "metadata": {},
   "outputs": [],
   "source": [
    "import json\n",
    "import numpy as np\n",
    "import matplotlib.pyplot as plt\n",
    "from skimage import color\n",
    "from skimage.feature import hog\n",
    "from multiprocessing import Pool\n",
    "from sklearn.metrics import classification_report, confusion_matrix\n",
    "import seaborn as sb"
   ]
  },
  {
   "cell_type": "markdown",
   "metadata": {},
   "source": [
    "# A. Importar datos\n",
    "\n",
    "Los datos vienen en un archivo **.json**, con la siguientes llaves:\n",
    "\n",
    "- `data`: list of list[int], imagenes 80x80 RGB, las imagenes estan aplanadas en un vector de dimensión 19200 (80x80x3),  las primeras 6400 entradas contienen los valores del canal rojo, las siguientes 6400 del verde, y las últimas 6400 del azul. La imagen es almacenada en orden fila, asi las primeras 80 entradas del arreglo son los valores del canal rojo de la primera fila de la imagen.\n",
    "- `labels`: list of int, etiquetas de las imágenes, donde 1->\"ship\", 0->\"no-ship\".\n",
    "- `locations`**(irrelevante)**: list of tuples, coordenadas geográficas, longitud y latitude del punto central de cada imágen.\n",
    "- `scene_ids`: list, identificador único de cada imágen.\n"
   ]
  },
  {
   "cell_type": "code",
   "execution_count": null,
   "metadata": {},
   "outputs": [],
   "source": [
    "# cargar datos\n",
    "with open(\"shipsnet.json\", \"r\") as f:\n",
    "    dataset = json.load(f)\n",
    "f.close()\n",
    "print(dataset.keys())"
   ]
  },
  {
   "cell_type": "code",
   "execution_count": null,
   "metadata": {},
   "outputs": [],
   "source": [
    "# llevar las imagenes aplanadas a 80x80x3\n",
    "data = np.array(dataset['data']).astype('uint8')\n",
    "data = data.reshape(-1,3,80,80).transpose([0,2,3,1])\n",
    "labels =  np.array(dataset['labels'])\n",
    "\n",
    "print(f\"Dimensión: {data.shape}\")\n",
    "\n",
    "# ejemplos\n",
    "plt.imshow(data[51])"
   ]
  },
  {
   "cell_type": "code",
   "execution_count": null,
   "metadata": {},
   "outputs": [],
   "source": [
    " plt.figure(figsize=(10,3))"
   ]
  },
  {
   "cell_type": "code",
   "execution_count": null,
   "metadata": {},
   "outputs": [],
   "source": [
    "# ejemplos\n",
    "f = plt.figure(figsize=(16,9))\n",
    "for i in range(1,7):\n",
    "    ax = f.add_subplot(2,6,i)\n",
    "    ax.imshow(data[50+i])\n",
    "for i in range(1,7):\n",
    "    ax = f.add_subplot(1,6,i)\n",
    "    ax.imshow(data[-1-i])"
   ]
  },
  {
   "cell_type": "code",
   "execution_count": null,
   "metadata": {},
   "outputs": [],
   "source": [
    "# llevamos las imágenes RGB a escala de grises\n",
    "data_gray = np.array([color.rgb2gray(i) for i in data])\n",
    "print(f\"Dimensión: {data_gray.shape}\")\n",
    "# ejemplos\n",
    "f = plt.figure(figsize=(16,9))\n",
    "for i in range(1,7):\n",
    "    ax = f.add_subplot(2,6,i)\n",
    "    ax.imshow(data_gray[50+i])\n",
    "for i in range(1,7):\n",
    "    ax = f.add_subplot(1,6,i)\n",
    "    ax.imshow(data_gray[-1-i])"
   ]
  },
  {
   "cell_type": "markdown",
   "metadata": {},
   "source": [
    "# B. Extracción de características\n",
    "\n",
    "## Histograms of Gradients (HoG) (lectura opcional)\n",
    "\n",
    "EL histograma de orientación de gradiente (HoG) es un descriptor de características usado en visión por computadora y procesamiento de imágenes para la detección de objetos. Su utilidad viene dada de que la magnitud del gradiente es grande alrededor de los bordes y esquinas (regiones con cambios abruptos de itensidad), donde los arcos y esquinas contienen mucha más información sobre la forma del objeto que las regiones planas.\n",
    "\n",
    "Sea $I_{i,j}$ la intensidad del pixel $(i,j)$, luego la magnitud del gradiente y su orientación viene dada por la siguiente expresión:\n",
    "\n",
    "\\begin{align}\n",
    "& g = \\sqrt{g_x^2+g_y^2}, g_x = I_{i,j}-I_{i-1,j}, g_y = I_{i,j}-I_{i,j-1}\\\\\n",
    "& \\theta = \\text{arctan}\\frac{gx}{gy}\n",
    "\\end{align}\n",
    "\n",
    "\n",
    "Así el output inicial del procedemiento son dos matrices, una matriz que contiene la magnitud del gradiente de cada pixel y otra con la orientación del gradiente. Para convertir estas matrices a un vector se utilizará un histograma, por ejemplo, podemos dividir el dominio de las orientaciones en 9 bins de 20° (180° total, no son 360° ya que las transiciones de negro a blanco y de blanco a negro se consideran equivalentes), obteniéndose así un vector de dimensión 9, es decir, [0, 20, 40, 60, 80, 100, 120, 140, 160]. Luego cada pixel de una imágen votará en estos bins en base a la magnitud de gradiente que posee y su cercanía a los bins según su orientación, por ejemplo, si tenemos un pixel con ángulo 10° y magnitud 4, este sumára 2 al bin 0° y 2 al bin 20° pues se encuentra justo a la mitad de ambos, por otro lado, si tenemos un pixel con ángulo 80° y magnitud 2 este sumará solo al bin 80°. \n",
    "\n",
    "<img src=\"hog_histogram.png\">\n",
    "\n",
    "Para capturar de mejor forma información local de la imagen se suele dividir en zonas y calcular HoG en cada una de estas, siendo el vector resultante la concatenación de todos los histogramas. En el ejemplo a continuación la imágen se divide en 4x4 (16 submatrices, viene de dividir 80x80/(20x20)) y para cada zona se calcula HoG con 8 bins. \n",
    "\n",
    "Más detalle en:\n",
    "\n",
    "- https://scikit-image.org/docs/stable/auto_examples/features_detection/plot_hog.html?highlight=hog\n",
    "- https://www.learnopencv.com/histogram-of-oriented-gradients/"
   ]
  },
  {
   "cell_type": "code",
   "execution_count": null,
   "metadata": {},
   "outputs": [],
   "source": [
    "# extrae hog features y hog transformation para cada imagen\n",
    "ppc = 20\n",
    "hog_images = []\n",
    "hog_features = []\n",
    "for image in data_gray:\n",
    "    fd,hog_image = hog(image, orientations=8, pixels_per_cell=(ppc,ppc), cells_per_block=(1, 1),block_norm= 'L2',visualize=True)\n",
    "    hog_images.append(hog_image)\n",
    "    hog_features.append(fd)\n",
    "hog_features = np.array(hog_features)\n",
    "hog_images = np.array(hog_images)\n",
    "\n",
    "hog_features.shape"
   ]
  },
  {
   "cell_type": "code",
   "execution_count": null,
   "metadata": {},
   "outputs": [],
   "source": [
    "# ejemplos\n",
    "f = plt.figure(figsize=(16,9))\n",
    "for i in range(1,7):\n",
    "    ax = f.add_subplot(2,6,i)\n",
    "    ax.imshow(data_gray[50+i])\n",
    "for i in range(1,7):\n",
    "    ax = f.add_subplot(1,6,i)\n",
    "    ax.imshow(hog_images[50+i])"
   ]
  },
  {
   "cell_type": "markdown",
   "metadata": {},
   "source": [
    "# C. División en train-validation-test y métricas"
   ]
  },
  {
   "cell_type": "code",
   "execution_count": null,
   "metadata": {},
   "outputs": [],
   "source": [
    "from sklearn.model_selection import train_test_split"
   ]
  },
  {
   "cell_type": "code",
   "execution_count": null,
   "metadata": {},
   "outputs": [],
   "source": [
    "X_train, X_test, y_train, y_test = train_test_split(hog_features, labels, train_size=.7, random_state=0)\n",
    "X_test, X_val, y_test, y_val = train_test_split(X_test, y_test, train_size=.5, random_state=9091997)"
   ]
  },
  {
   "cell_type": "markdown",
   "metadata": {},
   "source": [
    "# D. Entrenamiento y evaluación"
   ]
  },
  {
   "cell_type": "code",
   "execution_count": null,
   "metadata": {},
   "outputs": [],
   "source": [
    "def sigmoid(x):\n",
    "    return 1 / (1 + np.exp(-x))\n",
    "\n",
    "class MyLogisticRegression:\n",
    "    def __init__(self, eta=0.1, epochs=100):\n",
    "        self.eta = eta\n",
    "        self.epochs = epochs\n",
    "        self.ll_train = []\n",
    "        self.ll_val = []\n",
    "        \n",
    "    def fit(self, X, y):\n",
    "        \"\"\"\n",
    "        En base al conjunto de entrenamiento D={X,y}, \n",
    "        despejar w y guardar en un atributo del objeto.\n",
    "        \"\"\"\n",
    "        N, M = X.shape\n",
    "        self.w = np.zeros(M)\n",
    "        for epoch in range(self.epochs):\n",
    "            if epoch%20==0:\n",
    "                print('epoch:', epoch, ';', 'eta: {}'.format(self.eta))\n",
    "            for i in range(N):\n",
    "                gradient = (sigmoid(self.w @ X[i,:]) - y[i]) * X[i,:]\n",
    "                self.w -= self.eta * gradient\n",
    "            self.ll_train.append(self.log_verosimilitud(X_train, y_train))\n",
    "            self.ll_val.append(self.log_verosimilitud(X_val, y_val))\n",
    "        self.ll_train = np.array(self.ll_train)\n",
    "        self.ll_val = np.array(self.ll_val)\n",
    "\n",
    "    def predict(self, X):\n",
    "        \"\"\"\n",
    "        Retorna las predicciones sobre X.\n",
    "        \"\"\"\n",
    "        predictions = np.rint(sigmoid(self.w @ X.T))\n",
    "        return predictions\n",
    "    \n",
    "    def log_verosimilitud(self, X, y):\n",
    "        \"\"\"\n",
    "        Dado el vector de pesos w retorna la log-verosimilitud\n",
    "        normalizada por el número de observaciones sobre D={X,y}\n",
    "        \"\"\"\n",
    "        ll = (y @ np.log(sigmoid(self.w @ X.T)) + (1 - y) * np.log(1 - sigmoid(self.w @ X.T))).sum()\n",
    "        ll /= len(y)\n",
    "        return ll"
   ]
  },
  {
   "cell_type": "code",
   "execution_count": null,
   "metadata": {},
   "outputs": [],
   "source": [
    "def test(eta):\n",
    "    log_reg = MyLogisticRegression(eta=eta, epochs=100)\n",
    "    log_reg.fit(X_train, y_train)\n",
    "    return log_reg.ll_train, log_reg.ll_val\n",
    "\n",
    "etas = [0.01, 0.05, 0.1]\n",
    "p = Pool(3)\n",
    "results = p.map(test, etas)\n",
    "p.close()\n",
    "p.join()"
   ]
  },
  {
   "cell_type": "code",
   "execution_count": null,
   "metadata": {},
   "outputs": [],
   "source": [
    "(train1, val1), (train2, val2), (train3, val3) = results\n",
    "epochs = [i for i in range(1,101)]"
   ]
  },
  {
   "cell_type": "code",
   "execution_count": 57,
   "metadata": {},
   "outputs": [
    {
     "data": {
      "text/plain": [
       "<matplotlib.legend.Legend at 0x11f10f450>"
      ]
     },
     "execution_count": 57,
     "metadata": {},
     "output_type": "execute_result"
    },
    {
     "data": {
      "image/png": "[encoded data removed]",
      "text/plain": [
       "<Figure size 1080x720 with 3 Axes>"
      ]
     },
     "metadata": {
      "needs_background": "light"
     },
     "output_type": "display_data"
    }
   ],
   "source": [
    "fig, ax = plt.subplots(3, 1, figsize=(15,10))\n",
    "\n",
    "ax[0].plot(epochs, train1 / 100)\n",
    "ax[0].plot(epochs, val1 / 100)\n",
    "ax[0].set_title('$\\eta=0.01$')\n",
    "ax[0].legend(['train', 'val'])\n",
    "\n",
    "ax[1].plot(epochs, train2 / 100)\n",
    "ax[1].plot(epochs, val2 / 100)\n",
    "ax[1].set_title('$\\eta=0.05$')\n",
    "ax[1].legend(['train', 'val'])\n",
    "\n",
    "ax[2].plot(epochs, train3 / 100)\n",
    "ax[2].plot(epochs, val3 / 100)\n",
    "ax[2].set_title('$\\eta=0.1$')\n",
    "ax[2].legend(['train', 'val'])\n"
   ]
  },
  {
   "cell_type": "code",
   "execution_count": 59,
   "metadata": {},
   "outputs": [],
   "source": [
    "class MyFLDA:\n",
    "    def fit(self, X, y):\n",
    "        \"\"\"\n",
    "        En base al conjunto de entremamiento D={X,y},\n",
    "        despejar a y b y guardar los atributos del objeto\n",
    "        \"\"\"\n",
    "        mu_1 = X[y==0,:].mean(axis=0)\n",
    "        mu_2 = X[y==1,:].mean(axis=0)\n",
    "        self.S_w = (X.T - y) @ (X.T - y).T\n",
    "        S_w_inv = np.linalg.inv(self.S_w)\n",
    "        \n",
    "        mu_subtraction = mu_1 - mu_2\n",
    "        \n",
    "        a = S_w_inv @ mu_subtraction\n",
    "        b = - a.T @ (mu_1 + mu_2) / 2\n",
    "        \n",
    "        self.a = a\n",
    "        self.b = b\n",
    "        \n",
    "    def predict(self, X):\n",
    "        \"\"\"\n",
    "        Retorna las predicciones sobre X.\n",
    "        \"\"\"\n",
    "        v = self.a @ X.T\n",
    "        predictions = np.ones(v.shape)\n",
    "        predictions[v >= -b] = 0\n",
    "\n",
    "        return predictions"
   ]
  },
  {
   "cell_type": "code",
   "execution_count": 62,
   "metadata": {},
   "outputs": [
    {
     "name": "stdout",
     "output_type": "stream",
     "text": [
      "epoch: 0 ; eta: 0.05\n",
      "epoch: 20 ; eta: 0.05\n",
      "epoch: 40 ; eta: 0.05\n",
      "epoch: 60 ; eta: 0.05\n",
      "epoch: 80 ; eta: 0.05\n"
     ]
    }
   ],
   "source": [
    "LogisticR = MyLogisticRegression(eta=0.05)\n",
    "LogisticR.fit(X_train, y_train)\n",
    "y_logistic = LogisticR.predict(X_test)\n",
    "\n",
    "flda = MyFLDA()\n",
    "flda.fit(X_train, y_train)\n",
    "y_flda = flda.predict(X_test)"
   ]
  },
  {
   "cell_type": "code",
   "execution_count": 146,
   "metadata": {},
   "outputs": [
    {
     "data": {
      "image/png": "[encoded data removed]",
      "text/plain": [
       "<Figure size 720x360 with 1 Axes>"
      ]
     },
     "metadata": {
      "needs_background": "light"
     },
     "output_type": "display_data"
    }
   ],
   "source": [
    "def histogram(data, title=None, *args, **kwargs):\n",
    "    _, y = np.unique(data, return_counts=True)\n",
    "    plt.figure(*args, **kwargs)\n",
    "    if title!=None:\n",
    "        plt.title(title)\n",
    "    plt.bar([\"no-ship\",\"ship\"], y)\n",
    "    p_no_ship = y[0] / y.sum()\n",
    "    p_ship = y[1] / y.sum()\n",
    "    plt.text(-.1, y[0] + 10, '{:.2f}%'.format(p_no_ship * 100))\n",
    "    plt.text(-.1 + 1, y[1] + 10, '{:.2f}%'.format(p_ship * 100))\n",
    "    plt.show()\n",
    "    return\n",
    "\n",
    "histogram(y_train, title='train data histogram', figsize=(10,5))"
   ]
  },
  {
   "cell_type": "code",
   "execution_count": 138,
   "metadata": {},
   "outputs": [
    {
     "name": "stdout",
     "output_type": "stream",
     "text": [
      "log report\n",
      "\n",
      "              precision    recall  f1-score   support\n",
      "\n",
      "           0       0.92      0.97      0.94       433\n",
      "           1       0.90      0.78      0.83       167\n",
      "\n",
      "    accuracy                           0.91       600\n",
      "   macro avg       0.91      0.87      0.89       600\n",
      "weighted avg       0.91      0.91      0.91       600\n",
      "\n",
      "------------------------------------------------------------\n",
      "flda report\n",
      "\n",
      "              precision    recall  f1-score   support\n",
      "\n",
      "           0       0.72      1.00      0.84       433\n",
      "           1       0.00      0.00      0.00       167\n",
      "\n",
      "    accuracy                           0.72       600\n",
      "   macro avg       0.36      0.50      0.42       600\n",
      "weighted avg       0.52      0.72      0.60       600\n",
      "\n"
     ]
    }
   ],
   "source": [
    "print('log report\\n')\n",
    "print(classification_report(y_test, y_logistic))\n",
    "print('-' * 60)\n",
    "print('flda report\\n')\n",
    "print(classification_report(y_test, y_flda))\n"
   ]
  },
  {
   "cell_type": "code",
   "execution_count": 139,
   "metadata": {},
   "outputs": [],
   "source": [
    "def plot_confusion_matrix(cm,\n",
    "                          target_names,\n",
    "                          title='Confusion matrix',\n",
    "                          cmap=None,\n",
    "                          normalize=True):\n",
    "    \"\"\"\n",
    "    créditos: https://www.kaggle.com/grfiv4/plot-a-confusion-matrix\n",
    "    \"\"\"\n",
    "    import matplotlib.pyplot as plt\n",
    "    import numpy as np\n",
    "    import itertools\n",
    "\n",
    "    accuracy = np.trace(cm) / float(np.sum(cm))\n",
    "    misclass = 1 - accuracy\n",
    "\n",
    "    if cmap is None:\n",
    "        cmap = plt.get_cmap('Blues')\n",
    "\n",
    "    plt.figure(figsize=(8, 6))\n",
    "    plt.imshow(cm, interpolation='nearest', cmap=cmap)\n",
    "    plt.title(title)\n",
    "    plt.colorbar()\n",
    "\n",
    "    if target_names is not None:\n",
    "        tick_marks = np.arange(len(target_names))\n",
    "        plt.xticks(tick_marks, target_names, rotation=45)\n",
    "        plt.yticks(tick_marks, target_names)\n",
    "\n",
    "    if normalize:\n",
    "        cm = cm.astype('float') / cm.sum(axis=1)[:, np.newaxis]\n",
    "\n",
    "\n",
    "    thresh = cm.max() / 1.5 if normalize else cm.max() / 2\n",
    "    for i, j in itertools.product(range(cm.shape[0]), range(cm.shape[1])):\n",
    "        if normalize:\n",
    "            plt.text(j, i, \"{:0.4f}\".format(cm[i, j]),\n",
    "                     horizontalalignment=\"center\",\n",
    "                     color=\"white\" if cm[i, j] > thresh else \"black\")\n",
    "        else:\n",
    "            plt.text(j, i, \"{:,}\".format(cm[i, j]),\n",
    "                     horizontalalignment=\"center\",\n",
    "                     color=\"white\" if cm[i, j] > thresh else \"black\")\n",
    "\n",
    "\n",
    "    plt.tight_layout()\n",
    "    plt.ylabel('True label')\n",
    "    plt.xlabel('Predicted label\\naccuracy={:0.4f}; misclass={:0.4f}'.format(accuracy, misclass))\n",
    "    plt.show()"
   ]
  },
  {
   "cell_type": "code",
   "execution_count": 140,
   "metadata": {},
   "outputs": [],
   "source": [
    "cm_log = confusion_matrix(y_test, y_logistic)\n",
    "cm_flda = confusion_matrix(y_test, y_flda)"
   ]
  },
  {
   "cell_type": "code",
   "execution_count": 141,
   "metadata": {},
   "outputs": [
    {
     "data": {
      "image/png": "[encoded data removed]",
      "text/plain": [
       "<Figure size 576x432 with 2 Axes>"
      ]
     },
     "metadata": {
      "needs_background": "light"
     },
     "output_type": "display_data"
    }
   ],
   "source": [
    "plot_confusion_matrix(cm_log, ['no-ship', 'ship'], title='Log Reg')"
   ]
  },
  {
   "cell_type": "code",
   "execution_count": 142,
   "metadata": {},
   "outputs": [
    {
     "data": {
      "image/png": "[encoded data removed]",
      "text/plain": [
       "<Figure size 576x432 with 2 Axes>"
      ]
     },
     "metadata": {
      "needs_background": "light"
     },
     "output_type": "display_data"
    }
   ],
   "source": [
    "plot_confusion_matrix(cm_flda, ['no-ship', 'ship'], title='FLDA')"
   ]
  },
  {
   "cell_type": "code",
   "execution_count": 147,
   "metadata": {},
   "outputs": [
    {
     "data": {
      "image/png": "[encoded data removed]",
      "text/plain": [
       "<Figure size 720x360 with 1 Axes>"
      ]
     },
     "metadata": {
      "needs_background": "light"
     },
     "output_type": "display_data"
    }
   ],
   "source": [
    "histogram(y_test,title='test data histogram', figsize=(10, 5), tight_layout=True)"
   ]
  },
  {
   "cell_type": "code",
   "execution_count": null,
   "metadata": {},
   "outputs": [],
   "source": []
  }
 ],
 "metadata": {
  "kernelspec": {
   "display_name": "Python 3",
   "language": "python",
   "name": "python3"
  },
  "language_info": {
   "codemirror_mode": {
    "name": "ipython",
    "version": 3
   },
   "file_extension": ".py",
   "mimetype": "text/x-python",
   "name": "python",
   "nbconvert_exporter": "python",
   "pygments_lexer": "ipython3",
   "version": "3.7.8"
  }
 },
 "nbformat": 4,
 "nbformat_minor": 2
}
